{
 "cells": [
  {
   "cell_type": "markdown",
   "metadata": {},
   "source": [
    "#문제1\n",
    "배달음식 전문점 운영을 위해 다음과 같이 DeliveryStore 인터페이스와  PizzaStore, Food 클래스를 작성했습니다.\n",
    "\n",
    "![image](https://s3.ap-northeast-2.amazonaws.com/grepp-cloudfront/programmers_imgs/challengeable-imgs/20180316_deli_python1.png)\n",
    "\n",
    "* DeliveryStore :\n",
    "  * DeliveryStore는 배달 음식점의 인터페이스입니다.\n",
    "  * 배달 음식점은 set_order_list와 get_total_price 함수를 구현해야 합니다.\n",
    "  * set_order_list 함수는 주문 메뉴의 리스트를 매개변수로 받아 저장합니다.\n",
    "  * get_total_price 함수는 주문받은 음식 가격의 총합을 return 합니다.\n",
    "\n",
    "* Food : \n",
    "  * Food는 음식을 나타내는 클래스입니다.\n",
    "  * 음식은 이름(name)과 가격(price)으로 구성되어있습니다.\n",
    "\n",
    "* PizzaStore\n",
    "  * PizzaStore는 피자 배달 전문점을 나타내는 클래스이며 DeliveryStore 인터페이스를 구현합니다.\n",
    "  * menu_list는 피자 배달 전문점에서 주문 할 수 있는 음식의 리스트를 저장합니다.\n",
    "  * order_list는 주문 받은 음식들의 이름을 저장합니다.\n",
    "  * set_order_list 함수는 주문 메뉴를 받아 order_list에 저장합니다.\n",
    "  * get_total_price 함수는 order_list에 들어있는 음식 가격의 총합을 return 합니다.\n",
    "\n",
    "주문 메뉴가 들어있는 리스트 order_list가 매개변수로 주어질 때, 주문한 메뉴의 전체 가격을 return 하도록 solution 함수를 작성하려고 합니다. 위의 클래스 구조를 참고하여 주어진 코드의 빈칸을 적절히 채워 전체 코드를 완성해주세요.\n",
    "\n",
    "---\n",
    "##### 매개변수 설명\n",
    "주문 메뉴가 들어있는 리스트 order_list가 solution 함수의 매개변수로 주어집니다.\n",
    "\n",
    "* order_list의 길이는 1 이상 5이하입니댜.\n",
    "* order_list에는 주문하려는 메뉴의 이름들이 문자열 형태로 들어있습니다.\n",
    "  * order_list에는 같은 메뉴의 이름이 중복해서 들어있지 않습니다.\n",
    "* 메뉴의 이름과 가격은 PizzaStore의 생성자에서 초기화해줍니다.\n",
    "\n",
    "---\n",
    "##### return 값 설명\n",
    "주문한 메뉴의 전체 가격을 return 해주세요.\n",
    "\n",
    "---\n",
    "##### 예시\n",
    "\n",
    "| order_list                           | return |\n",
    "|-------------------------------------|--------|\n",
    "| [\"Cheese\", \"Pineapple\", \"Meatball\"] | 51600  |"
   ]
  },
  {
   "cell_type": "code",
   "execution_count": null,
   "metadata": {},
   "outputs": [],
   "source": []
  },
  {
   "cell_type": "code",
   "execution_count": null,
   "metadata": {},
   "outputs": [],
   "source": []
  },
  {
   "cell_type": "code",
   "execution_count": null,
   "metadata": {},
   "outputs": [],
   "source": []
  },
  {
   "cell_type": "code",
   "execution_count": null,
   "metadata": {},
   "outputs": [],
   "source": []
  },
  {
   "cell_type": "code",
   "execution_count": null,
   "metadata": {},
   "outputs": [],
   "source": []
  }
 ],
 "metadata": {
  "language_info": {
   "name": "python"
  },
  "orig_nbformat": 4
 },
 "nbformat": 4,
 "nbformat_minor": 2
}
